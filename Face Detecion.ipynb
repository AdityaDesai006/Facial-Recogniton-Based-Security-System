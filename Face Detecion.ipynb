{
 "cells": [
  {
   "cell_type": "markdown",
   "id": "ce07d06d-eb51-43a7-b645-082c288031e0",
   "metadata": {},
   "source": [
    "## FACE DETECTION - Haar Cascade Classifier"
   ]
  },
  {
   "cell_type": "markdown",
   "id": "84cf9f1a-e600-4c03-9cc3-0b0f333bcdfa",
   "metadata": {},
   "source": [
    "#### Multiple Face Detection"
   ]
  },
  {
   "cell_type": "code",
   "execution_count": 4,
   "id": "404ccc57-0cb9-40e3-85e0-c48260c7d0ea",
   "metadata": {},
   "outputs": [],
   "source": [
    "import cv2\n",
    "import numpy as np\n",
    "\n",
    "cap = cv2.VideoCapture(0)\n",
    "face_cascade = cv2.CascadeClassifier(r\"C:\\Users\\archi\\Desktop\\Faceial-Recogniton-Based-Security-System\\haarcascade_frontalface_alt.xml\")\n",
    "\n",
    "while True:\n",
    "    ret, frame = cap.read()\n",
    "    if ret == False:\n",
    "        continue\n",
    "    gray = cv2.cvtColor(frame, cv2.COLOR_BGR2GRAY)\n",
    "    \n",
    "    faces = face_cascade.detectMultiScale(frame, 1.3, 4)\n",
    "    \n",
    "    for (x, y, w, h) in faces:\n",
    "        cv2.rectangle(frame, (x, y), (x+w, y+h), (0, 255, 0), 3)\n",
    "    \n",
    "    cv2.imshow(\"Frame\", frame)\n",
    "\n",
    "    # cv2.imshow(\"bw\", gray)\n",
    "    key = cv2.waitKey(1) & 0xFF\n",
    "    if key == ord('e'):\n",
    "        break\n",
    "\n",
    "cap.release()\n",
    "cv2.destroyAllWindows()"
   ]
  },
  {
   "cell_type": "markdown",
   "id": "de61bd4f-0450-4006-bb12-2cddc4f58f62",
   "metadata": {},
   "source": [
    "### Identifying the largets face to be recorded"
   ]
  },
  {
   "cell_type": "code",
   "execution_count": 5,
   "id": "8686c7c0-e6b4-4142-9dcf-62516b1986ef",
   "metadata": {},
   "outputs": [],
   "source": [
    "import cv2\n",
    "import numpy as np\n",
    "\n",
    "cap = cv2.VideoCapture(0)\n",
    "face_cascade = cv2.CascadeClassifier(r\"C:\\Users\\archi\\Desktop\\Faceial-Recogniton-Based-Security-System\\haarcascade_frontalface_alt.xml\")\n",
    "\n",
    "while True:\n",
    "    ret, frame = cap.read()\n",
    "    if ret == False:\n",
    "        continue\n",
    "    gray = cv2.cvtColor(frame, cv2.COLOR_BGR2GRAY)\n",
    "    \n",
    "    faces = face_cascade.detectMultiScale(frame, 1.3, 4)\n",
    "    faces = sorted(faces, key = lambda f:f[2]*f[3], reverse = True)\n",
    "    \n",
    "    if len(faces) > 1:\n",
    "        x, y, w, h = faces[0]\n",
    "        cv2.rectangle(frame, (x, y), (x+w, y+h), (255, 0, 0), 3)\n",
    "    \n",
    "        for (x, y, w, h) in faces[1:]:\n",
    "            cv2.rectangle(frame, (x, y), (x+w, y+h), (0, 255, 0), 3)\n",
    "    else:\n",
    "        for (x, y, w, h) in faces:\n",
    "            cv2.rectangle(frame, (x, y), (x+w, y+h), (0, 255, 0), 3)\n",
    "    \n",
    "    cv2.imshow(\"Frame\", frame)\n",
    "\n",
    "    # cv2.imshow(\"bw\", gray)\n",
    "    key = cv2.waitKey(1) & 0xFF\n",
    "    if key == ord('e'):\n",
    "        break\n",
    "\n",
    "cap.release()\n",
    "cv2.destroyAllWindows()"
   ]
  },
  {
   "cell_type": "code",
   "execution_count": null,
   "id": "b4beeb58-ccd0-4daa-ba9d-777cb10ee5fd",
   "metadata": {},
   "outputs": [],
   "source": []
  }
 ],
 "metadata": {
  "kernelspec": {
   "display_name": "Python 3 (ipykernel)",
   "language": "python",
   "name": "python3"
  },
  "language_info": {
   "codemirror_mode": {
    "name": "ipython",
    "version": 3
   },
   "file_extension": ".py",
   "mimetype": "text/x-python",
   "name": "python",
   "nbconvert_exporter": "python",
   "pygments_lexer": "ipython3",
   "version": "3.9.7"
  }
 },
 "nbformat": 4,
 "nbformat_minor": 5
}
