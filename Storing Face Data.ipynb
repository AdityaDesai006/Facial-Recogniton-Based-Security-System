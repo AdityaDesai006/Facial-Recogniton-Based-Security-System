{
 "cells": [
  {
   "cell_type": "markdown",
   "id": "68733b9f-8f54-4131-9121-98cb35871004",
   "metadata": {},
   "source": [
    "## Storing Face Data"
   ]
  },
  {
   "cell_type": "markdown",
   "id": "3a506384-619d-4d6b-aa1b-eacc9b77392c",
   "metadata": {},
   "source": [
    "### Slicing Identified Face Area"
   ]
  },
  {
   "cell_type": "code",
   "execution_count": 2,
   "id": "88248be7-d271-4630-ad39-b1f6971dfb3b",
   "metadata": {},
   "outputs": [],
   "source": [
    "import cv2\n",
    "import numpy as np\n",
    "import warnings\n",
    "\n",
    "path = \"data/\"\n",
    "warnings.filterwarnings(\"ignore\")\n",
    "cap = cv2.VideoCapture(0)\n",
    "face_cascade = cv2.CascadeClassifier(r\"C:\\Users\\archi\\Desktop\\Faceial-Recogniton-Based-Security-System\\haarcascade_frontalface_alt.xml\")\n",
    "\n",
    "while True:\n",
    "    ret, frame = cap.read()\n",
    "    if ret == False:\n",
    "        continue\n",
    "    gray = cv2.cvtColor(frame, cv2.COLOR_BGR2GRAY)\n",
    "    \n",
    "    faces = face_cascade.detectMultiScale(frame, 1.3, 4)\n",
    "    faces = sorted(faces, key = lambda f:f[2]*f[3], reverse = True)\n",
    "    \n",
    "    for (x, y, w, h) in faces:\n",
    "        cv2.rectangle(frame, (x, y), (x+w, y+h), (0, 255, 0), 3)\n",
    "    \n",
    "    try:\n",
    "        l = faces[0]\n",
    "        x, y, w, h = l\n",
    "        offset = 10\n",
    "        face_section = frame[y-offset:y+h+offset, x-offset:x+w+offset]\n",
    "        face_section = cv2.resize(face_section, (100, 100))\n",
    "        cv2.imshow(\"Face Section\", face_section)\n",
    "    except:\n",
    "        a=0\n",
    "    finally:\n",
    "        cv2.imshow(\"Frame\", frame)\n",
    "        \n",
    "        # cv2.imshow(\"bw\", gray)\n",
    "        key = cv2.waitKey(1) & 0xFF\n",
    "        if key == ord('e'):\n",
    "            break\n",
    "\n",
    "cap.release()\n",
    "cv2.destroyAllWindows()"
   ]
  },
  {
   "cell_type": "markdown",
   "id": "b01eaa30-57a1-483d-b8b6-67856176a606",
   "metadata": {},
   "source": [
    "### Saving Sliced Area"
   ]
  },
  {
   "cell_type": "code",
   "execution_count": null,
   "id": "fb831c29-fdb7-4cd8-bae7-de1c5182c38d",
   "metadata": {},
   "outputs": [
    {
     "name": "stdin",
     "output_type": "stream",
     "text": [
      "Enter Person Name:  Moubani\n"
     ]
    },
    {
     "name": "stdout",
     "output_type": "stream",
     "text": [
      "1\n",
      "2\n",
      "3\n",
      "4\n",
      "5\n",
      "6\n",
      "7\n",
      "8\n",
      "9\n",
      "10\n"
     ]
    }
   ],
   "source": [
    "import cv2\n",
    "import numpy as np\n",
    "import warnings\n",
    "\n",
    "filename = input(\"Enter Person Name: \")\n",
    "path = \"data/\"\n",
    "warnings.filterwarnings(\"ignore\")\n",
    "cap = cv2.VideoCapture(0)\n",
    "face_cascade = cv2.CascadeClassifier(r\"C:\\Users\\archi\\Desktop\\Faceial-Recogniton-Based-Security-System\\haarcascade_frontalface_alt.xml\")\n",
    "\n",
    "skip = 0\n",
    "face_data = []\n",
    "\n",
    "while True:\n",
    "    ret, frame = cap.read()\n",
    "    if ret == False:\n",
    "        continue\n",
    "    gray = cv2.cvtColor(frame, cv2.COLOR_BGR2GRAY)\n",
    "    \n",
    "    faces = face_cascade.detectMultiScale(frame, 1.3, 4)\n",
    "    faces = sorted(faces, key = lambda f:f[2]*f[3], reverse = True)\n",
    "    \n",
    "    for (x, y, w, h) in faces:\n",
    "        cv2.rectangle(frame, (x, y), (x+w, y+h), (0, 255, 0), 3)\n",
    "    \n",
    "    try:\n",
    "        l = faces[0]\n",
    "        x, y, w, h = l\n",
    "        offset = 10\n",
    "        face_section = frame[y-offset:y+h+offset, x-offset:x+w+offset]\n",
    "        face_section = cv2.resize(face_section, (100, 100))\n",
    "        \n",
    "        skip += 1\n",
    "        if skip%10 ==0:\n",
    "            face_data.append(face_section)\n",
    "            print(len(face_data))\n",
    "        cv2.imshow(\"Face Section\", face_section)\n",
    "    except:\n",
    "        a=0\n",
    "    finally:\n",
    "        cv2.imshow(\"Frame\", frame)\n",
    "        \n",
    "        # cv2.imshow(\"bw\", gray)\n",
    "        key = cv2.waitKey(1) & 0xFF\n",
    "        if key == ord('e'):\n",
    "            break\n",
    "\n",
    "face_data=np.asarray(face_data)\n",
    "face_data = face_data.reshape((face_data.shape[0], -1))\n",
    "print(face_data.shape)\n",
    "np.save(path+filename+'.npy', face_data)\n",
    "print(\"Data Saved.\")\n",
    "\n",
    "cap.release()\n",
    "cv2.destroyAllWindows()"
   ]
  },
  {
   "cell_type": "code",
   "execution_count": 3,
   "id": "c17ba9f8-7a46-489b-9dee-755c319521e3",
   "metadata": {},
   "outputs": [],
   "source": [
    "img = face_data[0].reshape((100, 100, 3))"
   ]
  },
  {
   "cell_type": "code",
   "execution_count": 4,
   "id": "bc2431ba-820c-4243-8fe5-e0ed9fa33c8b",
   "metadata": {},
   "outputs": [],
   "source": [
    "cv2.imshow(\"Image\", img)"
   ]
  },
  {
   "cell_type": "code",
   "execution_count": null,
   "id": "18b4ac8a-c54f-4d2d-825b-4af889e799ee",
   "metadata": {},
   "outputs": [],
   "source": []
  }
 ],
 "metadata": {
  "kernelspec": {
   "display_name": "Python 3 (ipykernel)",
   "language": "python",
   "name": "python3"
  },
  "language_info": {
   "codemirror_mode": {
    "name": "ipython",
    "version": 3
   },
   "file_extension": ".py",
   "mimetype": "text/x-python",
   "name": "python",
   "nbconvert_exporter": "python",
   "pygments_lexer": "ipython3",
   "version": "3.9.7"
  }
 },
 "nbformat": 4,
 "nbformat_minor": 5
}
